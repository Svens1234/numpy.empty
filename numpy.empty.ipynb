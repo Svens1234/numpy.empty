{
 "cells": [
  {
   "cell_type": "code",
   "execution_count": 1,
   "id": "b61caac1",
   "metadata": {},
   "outputs": [],
   "source": [
    "import pandas as pd\n",
    "import numpy as np"
   ]
  },
  {
   "cell_type": "code",
   "execution_count": 9,
   "id": "cdf76541",
   "metadata": {},
   "outputs": [
    {
     "data": {
      "text/plain": [
       "array([[4.67296746e-307, 1.69121096e-306, 1.60219035e-306,\n",
       "        6.23058028e-307, 2.22522597e-306, 1.33511969e-306,\n",
       "        1.37962320e-306, 9.34604358e-307],\n",
       "       [9.79101082e-307, 1.78020576e-306, 1.69119873e-306,\n",
       "        2.22522868e-306, 1.24611809e-306, 8.06632139e-308,\n",
       "        1.60221208e-306, 2.29178686e-312]])"
      ]
     },
     "execution_count": 9,
     "metadata": {},
     "output_type": "execute_result"
    }
   ],
   "source": [
    "np.empty([2, 8])"
   ]
  },
  {
   "cell_type": "code",
   "execution_count": 11,
   "id": "40dbc826",
   "metadata": {},
   "outputs": [
    {
     "data": {
      "text/plain": [
       "array([[1852768447,  538970725,  538976288, 1884495904, 1718182757],\n",
       "       [1814061929, 1818588773, 1965564019, 1970366830, 1635131493]])"
      ]
     },
     "execution_count": 11,
     "metadata": {},
     "output_type": "execute_result"
    }
   ],
   "source": [
    "np.empty([2, 5], dtype=int)"
   ]
  },
  {
   "cell_type": "code",
   "execution_count": null,
   "id": "811b85cf",
   "metadata": {},
   "outputs": [],
   "source": []
  }
 ],
 "metadata": {
  "kernelspec": {
   "display_name": "Python 3 (ipykernel)",
   "language": "python",
   "name": "python3"
  },
  "language_info": {
   "codemirror_mode": {
    "name": "ipython",
    "version": 3
   },
   "file_extension": ".py",
   "mimetype": "text/x-python",
   "name": "python",
   "nbconvert_exporter": "python",
   "pygments_lexer": "ipython3",
   "version": "3.8.7"
  }
 },
 "nbformat": 4,
 "nbformat_minor": 5
}
